{
 "cells": [
  {
   "cell_type": "code",
   "execution_count": 1,
   "id": "3507a9f8",
   "metadata": {},
   "outputs": [],
   "source": [
    "import pandas as pd"
   ]
  },
  {
   "cell_type": "code",
   "execution_count": 2,
   "id": "70d5a4a2",
   "metadata": {},
   "outputs": [
    {
     "name": "stdout",
     "output_type": "stream",
     "text": [
      "Requirement already satisfied: ntscraper in c:\\users\\gokula krishnan\\anaconda3\\anaconda\\lib\\site-packages (0.3.10)\n",
      "Requirement already satisfied: beautifulsoup4 in c:\\users\\gokula krishnan\\anaconda3\\anaconda\\lib\\site-packages (from ntscraper) (4.11.1)\n",
      "Requirement already satisfied: lxml in c:\\users\\gokula krishnan\\anaconda3\\anaconda\\lib\\site-packages (from ntscraper) (4.9.1)\n",
      "Requirement already satisfied: requests in c:\\users\\gokula krishnan\\anaconda3\\anaconda\\lib\\site-packages (from ntscraper) (2.28.1)\n",
      "Requirement already satisfied: soupsieve>1.2 in c:\\users\\gokula krishnan\\anaconda3\\anaconda\\lib\\site-packages (from beautifulsoup4->ntscraper) (2.3.2.post1)\n",
      "Requirement already satisfied: charset-normalizer<3,>=2 in c:\\users\\gokula krishnan\\anaconda3\\anaconda\\lib\\site-packages (from requests->ntscraper) (2.0.4)\n",
      "Requirement already satisfied: certifi>=2017.4.17 in c:\\users\\gokula krishnan\\anaconda3\\anaconda\\lib\\site-packages (from requests->ntscraper) (2022.12.7)\n",
      "Requirement already satisfied: idna<4,>=2.5 in c:\\users\\gokula krishnan\\anaconda3\\anaconda\\lib\\site-packages (from requests->ntscraper) (3.4)\n",
      "Requirement already satisfied: urllib3<1.27,>=1.21.1 in c:\\users\\gokula krishnan\\anaconda3\\anaconda\\lib\\site-packages (from requests->ntscraper) (1.26.14)\n",
      "Note: you may need to restart the kernel to use updated packages.\n"
     ]
    }
   ],
   "source": [
    "pip install ntscraper"
   ]
  },
  {
   "cell_type": "code",
   "execution_count": 3,
   "id": "58fc4a92",
   "metadata": {},
   "outputs": [],
   "source": [
    "from ntscraper import Nitter"
   ]
  },
  {
   "cell_type": "code",
   "execution_count": 4,
   "id": "da196e87",
   "metadata": {},
   "outputs": [
    {
     "name": "stderr",
     "output_type": "stream",
     "text": [
      "Testing instances: 100%|███████████████████████████████████████████████████████████████| 30/30 [01:09<00:00,  2.30s/it]\n"
     ]
    }
   ],
   "source": [
    "# Initialize scraper library\n",
    "\n",
    "scraper = Nitter()"
   ]
  },
  {
   "cell_type": "code",
   "execution_count": 5,
   "id": "43912bba",
   "metadata": {},
   "outputs": [],
   "source": [
    "# Define a scraping function that will returns its results in the table.\n",
    "\n",
    "def get_tweets(query, mode, size):\n",
    "\n",
    "  tweets = scraper.get_tweets(query, mode = mode, number = size)\n",
    "\n",
    "  final_tweets = []\n",
    "\n",
    " \n",
    "\n",
    "  for tweet in tweets['tweets']:\n",
    "\n",
    "    data = [tweet['link'], tweet['text'], tweet['date'], tweet['stats']['likes'], tweet['stats']['comments']]\n",
    "\n",
    "    final_tweets.append(data)\n",
    "\n",
    " \n",
    "\n",
    "  data = pd.DataFrame(final_tweets, columns = ['link', 'text', 'date', 'Likes', 'Comments'])\n",
    "\n",
    "  return data\n",
    "\n",
    " \n",
    "\n"
   ]
  },
  {
   "cell_type": "code",
   "execution_count": 8,
   "id": "f9dc9be7",
   "metadata": {},
   "outputs": [
    {
     "name": "stdout",
     "output_type": "stream",
     "text": [
      "12-Jan-24 16:10:16 - No instance specified, using random instance https://nitter.tux.pizza\n",
      "12-Jan-24 16:10:29 - Current stats for Domino's Pizza: 10 tweets, 0 threads...\n"
     ]
    },
    {
     "data": {
      "text/html": [
       "<div>\n",
       "<style scoped>\n",
       "    .dataframe tbody tr th:only-of-type {\n",
       "        vertical-align: middle;\n",
       "    }\n",
       "\n",
       "    .dataframe tbody tr th {\n",
       "        vertical-align: top;\n",
       "    }\n",
       "\n",
       "    .dataframe thead th {\n",
       "        text-align: right;\n",
       "    }\n",
       "</style>\n",
       "<table border=\"1\" class=\"dataframe\">\n",
       "  <thead>\n",
       "    <tr style=\"text-align: right;\">\n",
       "      <th></th>\n",
       "      <th>link</th>\n",
       "      <th>text</th>\n",
       "      <th>date</th>\n",
       "      <th>Likes</th>\n",
       "      <th>Comments</th>\n",
       "    </tr>\n",
       "  </thead>\n",
       "  <tbody>\n",
       "    <tr>\n",
       "      <th>0</th>\n",
       "      <td>https://twitter.com/progrezco/status/174575638...</td>\n",
       "      <td>Atlassian's AI revolution is here! AI is now l...</td>\n",
       "      <td>Jan 12, 2024 · 10:35 AM UTC</td>\n",
       "      <td>0</td>\n",
       "      <td>0</td>\n",
       "    </tr>\n",
       "    <tr>\n",
       "      <th>1</th>\n",
       "      <td>https://twitter.com/TontonDuPlaid/status/17455...</td>\n",
       "      <td>Vos tweets sur les \"3arbi stylo sans capuchon ...</td>\n",
       "      <td>Jan 11, 2024 · 6:47 PM UTC</td>\n",
       "      <td>97</td>\n",
       "      <td>3</td>\n",
       "    </tr>\n",
       "    <tr>\n",
       "      <th>2</th>\n",
       "      <td>https://twitter.com/MustangMan_TX/status/17451...</td>\n",
       "      <td>“PIZZA PSYCHO”  What do you think about this D...</td>\n",
       "      <td>Jan 10, 2024 · 6:41 PM UTC</td>\n",
       "      <td>4577</td>\n",
       "      <td>3015</td>\n",
       "    </tr>\n",
       "    <tr>\n",
       "      <th>3</th>\n",
       "      <td>https://twitter.com/GamersLiveFR/status/174575...</td>\n",
       "      <td>Domino's : cette pizza avec son volcan garni d...</td>\n",
       "      <td>Jan 12, 2024 · 10:25 AM UTC</td>\n",
       "      <td>0</td>\n",
       "      <td>0</td>\n",
       "    </tr>\n",
       "    <tr>\n",
       "      <th>4</th>\n",
       "      <td>https://twitter.com/Hitekfr/status/17457523818...</td>\n",
       "      <td>Domino's : cette pizza avec son volcan garni d...</td>\n",
       "      <td>Jan 12, 2024 · 10:19 AM UTC</td>\n",
       "      <td>0</td>\n",
       "      <td>0</td>\n",
       "    </tr>\n",
       "    <tr>\n",
       "      <th>5</th>\n",
       "      <td>https://twitter.com/suzukami0415/status/174575...</td>\n",
       "      <td>…近所にDomino's Pizzaがない現実</td>\n",
       "      <td>Jan 12, 2024 · 10:16 AM UTC</td>\n",
       "      <td>0</td>\n",
       "      <td>0</td>\n",
       "    </tr>\n",
       "    <tr>\n",
       "      <th>6</th>\n",
       "      <td>https://twitter.com/DeveshSharm4BJP/status/174...</td>\n",
       "      <td>Domino’s has done fraud with me by sending tas...</td>\n",
       "      <td>Jan 12, 2024 · 10:06 AM UTC</td>\n",
       "      <td>0</td>\n",
       "      <td>0</td>\n",
       "    </tr>\n",
       "    <tr>\n",
       "      <th>7</th>\n",
       "      <td>https://twitter.com/jL7CMEWqOoGhcmC/status/174...</td>\n",
       "      <td>いいなぁー！近くに、ピザ🍕屋さんないし！車で、15分位にDomino's Pizzaがある！...</td>\n",
       "      <td>Jan 12, 2024 · 9:56 AM UTC</td>\n",
       "      <td>2</td>\n",
       "      <td>1</td>\n",
       "    </tr>\n",
       "    <tr>\n",
       "      <th>8</th>\n",
       "      <td>https://twitter.com/VicLJE/status/174502161557...</td>\n",
       "      <td>Domino's Pizza is enjoying the \"IU effect.\" Do...</td>\n",
       "      <td>Jan 10, 2024 · 9:55 AM UTC</td>\n",
       "      <td>209</td>\n",
       "      <td>0</td>\n",
       "    </tr>\n",
       "    <tr>\n",
       "      <th>9</th>\n",
       "      <td>https://twitter.com/usfoods72/status/174574508...</td>\n",
       "      <td>DOMINO'S PIZZA Emergency Pizza - Usfoods72 USA...</td>\n",
       "      <td>Jan 12, 2024 · 9:50 AM UTC</td>\n",
       "      <td>0</td>\n",
       "      <td>0</td>\n",
       "    </tr>\n",
       "  </tbody>\n",
       "</table>\n",
       "</div>"
      ],
      "text/plain": [
       "                                                link  \\\n",
       "0  https://twitter.com/progrezco/status/174575638...   \n",
       "1  https://twitter.com/TontonDuPlaid/status/17455...   \n",
       "2  https://twitter.com/MustangMan_TX/status/17451...   \n",
       "3  https://twitter.com/GamersLiveFR/status/174575...   \n",
       "4  https://twitter.com/Hitekfr/status/17457523818...   \n",
       "5  https://twitter.com/suzukami0415/status/174575...   \n",
       "6  https://twitter.com/DeveshSharm4BJP/status/174...   \n",
       "7  https://twitter.com/jL7CMEWqOoGhcmC/status/174...   \n",
       "8  https://twitter.com/VicLJE/status/174502161557...   \n",
       "9  https://twitter.com/usfoods72/status/174574508...   \n",
       "\n",
       "                                                text  \\\n",
       "0  Atlassian's AI revolution is here! AI is now l...   \n",
       "1  Vos tweets sur les \"3arbi stylo sans capuchon ...   \n",
       "2  “PIZZA PSYCHO”  What do you think about this D...   \n",
       "3  Domino's : cette pizza avec son volcan garni d...   \n",
       "4  Domino's : cette pizza avec son volcan garni d...   \n",
       "5                            …近所にDomino's Pizzaがない現実   \n",
       "6  Domino’s has done fraud with me by sending tas...   \n",
       "7  いいなぁー！近くに、ピザ🍕屋さんないし！車で、15分位にDomino's Pizzaがある！...   \n",
       "8  Domino's Pizza is enjoying the \"IU effect.\" Do...   \n",
       "9  DOMINO'S PIZZA Emergency Pizza - Usfoods72 USA...   \n",
       "\n",
       "                          date  Likes  Comments  \n",
       "0  Jan 12, 2024 · 10:35 AM UTC      0         0  \n",
       "1   Jan 11, 2024 · 6:47 PM UTC     97         3  \n",
       "2   Jan 10, 2024 · 6:41 PM UTC   4577      3015  \n",
       "3  Jan 12, 2024 · 10:25 AM UTC      0         0  \n",
       "4  Jan 12, 2024 · 10:19 AM UTC      0         0  \n",
       "5  Jan 12, 2024 · 10:16 AM UTC      0         0  \n",
       "6  Jan 12, 2024 · 10:06 AM UTC      0         0  \n",
       "7   Jan 12, 2024 · 9:56 AM UTC      2         1  \n",
       "8   Jan 10, 2024 · 9:55 AM UTC    209         0  \n",
       "9   Jan 12, 2024 · 9:50 AM UTC      0         0  "
      ]
     },
     "execution_count": 8,
     "metadata": {},
     "output_type": "execute_result"
    }
   ],
   "source": [
    "data = get_tweets(\"Domino's Pizza\", \"hashtag\", 10)\n",
    "\n",
    "data"
   ]
  },
  {
   "cell_type": "code",
   "execution_count": 15,
   "id": "ef184f5b",
   "metadata": {},
   "outputs": [
    {
     "data": {
      "text/plain": [
       "'“PIZZA PSYCHO”  What do you think about this Domino’s Pizza delivery guy?  People have lost their minds over tipping and Dominoes has apparently reached the bottom of the barrel with drivers!'"
      ]
     },
     "execution_count": 15,
     "metadata": {},
     "output_type": "execute_result"
    }
   ],
   "source": [
    "selected_row = data.loc[2, \"text\"]\n",
    "selected_row"
   ]
  },
  {
   "cell_type": "code",
   "execution_count": 12,
   "id": "e193edb6",
   "metadata": {},
   "outputs": [
    {
     "name": "stdout",
     "output_type": "stream",
     "text": [
      "Collecting textblob\n",
      "  Downloading textblob-0.17.1-py2.py3-none-any.whl (636 kB)\n",
      "     ------------------------------------- 636.8/636.8 kB 25.4 kB/s eta 0:00:00\n",
      "Requirement already satisfied: nltk>=3.1 in c:\\users\\gokula krishnan\\anaconda3\\anaconda\\lib\\site-packages (from textblob) (3.7)\n",
      "Requirement already satisfied: click in c:\\users\\gokula krishnan\\anaconda3\\anaconda\\lib\\site-packages (from nltk>=3.1->textblob) (8.0.4)\n",
      "Requirement already satisfied: regex>=2021.8.3 in c:\\users\\gokula krishnan\\anaconda3\\anaconda\\lib\\site-packages (from nltk>=3.1->textblob) (2022.7.9)\n",
      "Requirement already satisfied: tqdm in c:\\users\\gokula krishnan\\anaconda3\\anaconda\\lib\\site-packages (from nltk>=3.1->textblob) (4.64.1)\n",
      "Requirement already satisfied: joblib in c:\\users\\gokula krishnan\\anaconda3\\anaconda\\lib\\site-packages (from nltk>=3.1->textblob) (1.1.1)\n",
      "Requirement already satisfied: colorama in c:\\users\\gokula krishnan\\anaconda3\\anaconda\\lib\\site-packages (from click->nltk>=3.1->textblob) (0.4.6)\n",
      "Installing collected packages: textblob\n",
      "Successfully installed textblob-0.17.1\n",
      "Note: you may need to restart the kernel to use updated packages.\n"
     ]
    }
   ],
   "source": [
    "pip install textblob"
   ]
  },
  {
   "cell_type": "code",
   "execution_count": 13,
   "id": "51ff0c87",
   "metadata": {},
   "outputs": [],
   "source": [
    "from textblob import TextBlob"
   ]
  },
  {
   "cell_type": "code",
   "execution_count": 16,
   "id": "dce9b633",
   "metadata": {},
   "outputs": [],
   "source": [
    "blob= TextBlob(selected_row)"
   ]
  },
  {
   "cell_type": "code",
   "execution_count": 17,
   "id": "469a97a8",
   "metadata": {},
   "outputs": [
    {
     "name": "stdout",
     "output_type": "stream",
     "text": [
      "Sentiment(polarity=0.0625, subjectivity=0.35)\n"
     ]
    }
   ],
   "source": [
    "print(blob.sentiment)"
   ]
  },
  {
   "cell_type": "code",
   "execution_count": null,
   "id": "0081cae0",
   "metadata": {},
   "outputs": [],
   "source": []
  }
 ],
 "metadata": {
  "kernelspec": {
   "display_name": "Python 3 (ipykernel)",
   "language": "python",
   "name": "python3"
  },
  "language_info": {
   "codemirror_mode": {
    "name": "ipython",
    "version": 3
   },
   "file_extension": ".py",
   "mimetype": "text/x-python",
   "name": "python",
   "nbconvert_exporter": "python",
   "pygments_lexer": "ipython3",
   "version": "3.9.13"
  }
 },
 "nbformat": 4,
 "nbformat_minor": 5
}
